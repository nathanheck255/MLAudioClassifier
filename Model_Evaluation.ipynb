{
 "cells": [
  {
   "cell_type": "markdown",
   "id": "d9273d27",
   "metadata": {},
   "source": [
    "<h1> Model Evaluation Notebook </h1>\n",
    "\n",
    "<p> Comparing the performance of the two different models </p>"
   ]
  },
  {
   "cell_type": "code",
   "execution_count": 13,
   "id": "ee39ec6d-20dc-48f0-9f87-fb6a26ca616b",
   "metadata": {},
   "outputs": [],
   "source": [
    "# Loading libraries\n",
    "import numpy as np\n",
    "import json\n",
    "import pandas as pd\n",
    "from ast import literal_eval\n",
    "import librosa\n",
    "import keras\n",
    "import os\n",
    "import glob\n",
    "\n",
    "import matplotlib.pyplot as plt\n",
    "from sklearn.model_selection import train_test_split"
   ]
  },
  {
   "cell_type": "code",
   "execution_count": 14,
   "id": "4c6bab2e-dce6-4ad1-bc06-822883b3de6f",
   "metadata": {},
   "outputs": [],
   "source": [
    "# please set this variable to where you cloned the git repo \"final-project-code-nathanheck255\"\n",
    "\n",
    "filepath = \"/blue/eel6825/nathan.heck/FinalProject/final-project-code-nathanheck255\"\n",
    "os.chdir(filepath)"
   ]
  },
  {
   "cell_type": "markdown",
   "id": "00ba0eb4",
   "metadata": {},
   "source": [
    "<h1> Model 1 Testing </h1>"
   ]
  },
  {
   "cell_type": "code",
   "execution_count": 15,
   "id": "6e0adda3-bf12-438e-a06e-632062924bb7",
   "metadata": {},
   "outputs": [],
   "source": [
    "# Loading the pretrained model 1\n",
    "from keras.models import load_model\n",
    "\n",
    "model=load_model('model.h5')"
   ]
  },
  {
   "cell_type": "code",
   "execution_count": 16,
   "id": "e0862869-db30-476b-b3cb-6f7f1eccef7d",
   "metadata": {},
   "outputs": [
    {
     "name": "stdout",
     "output_type": "stream",
     "text": [
      "61\n"
     ]
    }
   ],
   "source": [
    "# Loading the test data\n",
    "test_data_path = 'mfcc_test_data.json'\n",
    "with open(test_data_path, \"r\") as fp2:\n",
    "        test_data = json.load(fp2)\n",
    "X_test = np.array(test_data[\"mfcc\"])\n",
    "y_test = np.array(test_data[\"label\"])\n",
    "\n",
    "print(y_test.shape[0])"
   ]
  },
  {
   "cell_type": "code",
   "execution_count": 17,
   "id": "7b012d72-88f8-4852-8f1d-f585fef5707e",
   "metadata": {},
   "outputs": [
    {
     "name": "stdout",
     "output_type": "stream",
     "text": [
      "WARNING:tensorflow:6 out of the last 11 calls to <function Model.make_predict_function.<locals>.predict_function at 0x2b9548455ea0> triggered tf.function retracing. Tracing is expensive and the excessive number of tracings could be due to (1) creating @tf.function repeatedly in a loop, (2) passing tensors with different shapes, (3) passing Python objects instead of tensors. For (1), please define your @tf.function outside of the loop. For (2), @tf.function has reduce_retracing=True option that can avoid unnecessary retracing. For (3), please refer to https://www.tensorflow.org/guide/function#controlling_retracing and https://www.tensorflow.org/api_docs/python/tf/function for  more details.\n"
     ]
    },
    {
     "name": "stderr",
     "output_type": "stream",
     "text": [
      "WARNING:tensorflow:6 out of the last 11 calls to <function Model.make_predict_function.<locals>.predict_function at 0x2b9548455ea0> triggered tf.function retracing. Tracing is expensive and the excessive number of tracings could be due to (1) creating @tf.function repeatedly in a loop, (2) passing tensors with different shapes, (3) passing Python objects instead of tensors. For (1), please define your @tf.function outside of the loop. For (2), @tf.function has reduce_retracing=True option that can avoid unnecessary retracing. For (3), please refer to https://www.tensorflow.org/guide/function#controlling_retracing and https://www.tensorflow.org/api_docs/python/tf/function for  more details.\n"
     ]
    },
    {
     "name": "stdout",
     "output_type": "stream",
     "text": [
      "2/2 [==============================] - 0s 5ms/step\n"
     ]
    }
   ],
   "source": [
    "# Predict class labels for each test audio file. There might be some warnings here but no errors\n",
    "yhat = model.predict(X_test)"
   ]
  },
  {
   "cell_type": "markdown",
   "id": "1666e382",
   "metadata": {},
   "source": [
    "<h1> Model 1 Results </h1>"
   ]
  },
  {
   "cell_type": "code",
   "execution_count": 18,
   "id": "62be5ee1-1bc0-4c9c-abc6-93608c9ed349",
   "metadata": {},
   "outputs": [
    {
     "data": {
      "image/png": "[encoded data removed]",
      "text/plain": [
       "<Figure size 432x288 with 2 Axes>"
      ]
     },
     "metadata": {
      "needs_background": "light"
     },
     "output_type": "display_data"
    }
   ],
   "source": [
    "from sklearn.metrics import confusion_matrix\n",
    "cm1=confusion_matrix(y_test,yhat.argmax(axis=1))\n",
    "\n",
    "import seaborn as sns    \n",
    "\n",
    "ax= plt.subplot()\n",
    "sns.heatmap(cm1, annot=True, fmt='g', ax=ax, cmap = 'cividis');  #annot=True to annotate cells, ftm='g' to disable scientific notation\n",
    "# labels, title and ticks\n",
    "ax.set_xlabel('Predicted labels');ax.set_ylabel('True labels'); \n",
    "ax.set_title('Model 1 Confusion Matrix'); \n",
    "ax.xaxis.set_ticklabels(['hi-hat', 'snare', 'kick']); ax.yaxis.set_ticklabels(['hi-hat', 'snare', 'kick']);"
   ]
  },
  {
   "cell_type": "markdown",
   "id": "defd96c4",
   "metadata": {},
   "source": [
    "<h1> Model 2 Testing </h1>"
   ]
  },
  {
   "cell_type": "code",
   "execution_count": 19,
   "id": "15305603-738a-4029-bc32-73348b199258",
   "metadata": {},
   "outputs": [],
   "source": [
    "# calculate spectrograms for all the test audio files\n",
    "\n",
    "os.chdir(\"TestData\")\n",
    "folder_names = glob.glob(\"*\")\n",
    "x_test = []\n",
    "t_test = []\n",
    "i=0\n",
    "for instrument in folder_names:\n",
    "    os.chdir(instrument)\n",
    "    file_names = glob.glob(\"*.wav\")\n",
    "    for wav in file_names:\n",
    "        waveform, samplerate = librosa.load(wav, sr=22050, mono=True)\n",
    "        waveform = librosa.util.fix_length(waveform, size=32600)\n",
    "        spec = librosa.feature.melspectrogram(y=waveform, sr=samplerate, n_fft = 512, hop_length = 256)\n",
    "        normalized_spec = librosa.util.normalize(spec)\n",
    "        x_test.append(normalized_spec)\n",
    "        t_test.append(i)\n",
    "    os.chdir(\"..\")\n",
    "    i=i+1\n",
    "    \n",
    "x_test = np.array(x_test)\n",
    "x_test = x_test[..., np.newaxis]\n",
    "\n",
    "os.chdir(filepath)"
   ]
  },
  {
   "cell_type": "code",
   "execution_count": 20,
   "id": "9a034cd2-ddb6-4f27-89a7-6e7bd6f4ecd0",
   "metadata": {},
   "outputs": [
    {
     "name": "stdout",
     "output_type": "stream",
     "text": [
      "WARNING:tensorflow:No training configuration found in the save file, so the model was *not* compiled. Compile it manually.\n"
     ]
    },
    {
     "name": "stderr",
     "output_type": "stream",
     "text": [
      "WARNING:tensorflow:No training configuration found in the save file, so the model was *not* compiled. Compile it manually.\n"
     ]
    },
    {
     "name": "stdout",
     "output_type": "stream",
     "text": [
      "2/2 [==============================] - 0s 58ms/step\n",
      "(61, 16, 16, 8)\n",
      "2/2 [==============================] - 0s 4ms/step\n"
     ]
    }
   ],
   "source": [
    "# load the pretrained models and perform feature extraction on the test audio files\n",
    "encoder=load_model('encoder.h5')\n",
    "model2 = load_model('model2.h5')\n",
    "test_latents = encoder.predict(x_test)\n",
    "print(test_latents.shape)\n",
    "\n",
    "# Predict class labels for each test audio file. There might be some warnings here but no errors\n",
    "yhat = model2.predict(test_latents)"
   ]
  },
  {
   "cell_type": "markdown",
   "id": "38b10a3c",
   "metadata": {},
   "source": [
    "<h1> Model 2 Results </h1>"
   ]
  },
  {
   "cell_type": "code",
   "execution_count": 21,
   "id": "e51ed3d5-627e-445c-9cab-a802d70058fd",
   "metadata": {},
   "outputs": [
    {
     "data": {
      "image/png": "[encoded data removed]",
      "text/plain": [
       "<Figure size 432x288 with 2 Axes>"
      ]
     },
     "metadata": {
      "needs_background": "light"
     },
     "output_type": "display_data"
    }
   ],
   "source": [
    "from sklearn.metrics import confusion_matrix\n",
    "cm2=confusion_matrix(t_test,yhat.argmax(axis=1))\n",
    "\n",
    "import seaborn as sns    \n",
    "\n",
    "ax= plt.subplot()\n",
    "sns.heatmap(cm2, annot=True, fmt='g', ax=ax, cmap = 'cividis');  #annot=True to annotate cells, ftm='g' to disable scientific notation\n",
    "# labels, title and ticks\n",
    "ax.set_xlabel('Predicted labels');ax.set_ylabel('True labels'); \n",
    "ax.set_title('Model 2 Confusion Matrix'); \n",
    "ax.xaxis.set_ticklabels(['hi-hat', 'snare', 'kick']); ax.yaxis.set_ticklabels(['hi-hat', 'snare', 'kick']);\n"
   ]
  },
  {
   "cell_type": "code",
   "execution_count": null,
   "id": "8d0d1a4d-be5d-4ffe-a1fe-df40eed6155c",
   "metadata": {},
   "outputs": [],
   "source": []
  }
 ],
 "metadata": {
  "kernelspec": {
   "display_name": "Python 3",
   "language": "python",
   "name": "python3"
  },
  "language_info": {
   "codemirror_mode": {
    "name": "ipython",
    "version": 3
   },
   "file_extension": ".py",
   "mimetype": "text/x-python",
   "name": "python",
   "nbconvert_exporter": "python",
   "pygments_lexer": "ipython3",
   "version": "3.8.8"
  }
 },
 "nbformat": 4,
 "nbformat_minor": 5
}
