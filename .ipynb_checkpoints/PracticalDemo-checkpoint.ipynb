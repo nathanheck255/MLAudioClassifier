{
 "cells": [
  {
   "cell_type": "code",
   "execution_count": 34,
   "id": "5c89f76a-0384-425b-a534-e3c49e081b9c",
   "metadata": {},
   "outputs": [],
   "source": [
    "import os\n",
    "import numpy as np\n",
    "\n",
    "import glob\n",
    "import librosa\n",
    "import librosa.display\n",
    "\n",
    "import keras\n",
    "\n",
    "import shutil"
   ]
  },
  {
   "cell_type": "code",
   "execution_count": 35,
   "id": "fe0877b4-5af0-477b-8efa-8346f8feaea3",
   "metadata": {},
   "outputs": [],
   "source": [
    "from keras.models import load_model\n",
    "os.chdir(\"/blue/eel6825/nathan.heck/FinalProject/\")\n",
    "model=load_model('model.h5')"
   ]
  },
  {
   "cell_type": "code",
   "execution_count": 36,
   "id": "580d3a83-06f6-41a5-a8cb-41a4aec68f54",
   "metadata": {},
   "outputs": [
    {
     "name": "stdout",
     "output_type": "stream",
     "text": [
      "1/1 [==============================] - 0s 42ms/step\n",
      "1/1 [==============================] - 0s 15ms/step\n"
     ]
    },
    {
     "name": "stderr",
     "output_type": "stream",
     "text": [
      "/scratch/local/62405813/ipykernel_76420/4196971690.py:10: FutureWarning: Pass y=[ 0.08224529  0.10051984  0.06036448 ... -0.00084114 -0.00074387\n",
      " -0.0007059 ] as keyword args. From version 0.10 passing these as positional arguments will result in an error\n",
      "  mfcc=librosa.feature.mfcc(waveform, n_mfcc=40, n_fft=2048, hop_length=512)\n",
      "/scratch/local/62405813/ipykernel_76420/4196971690.py:10: FutureWarning: Pass y=[-1.13427639e-04 -9.48905945e-05 -1.04904175e-05 ...  0.00000000e+00\n",
      "  0.00000000e+00  0.00000000e+00] as keyword args. From version 0.10 passing these as positional arguments will result in an error\n",
      "  mfcc=librosa.feature.mfcc(waveform, n_mfcc=40, n_fft=2048, hop_length=512)\n",
      "/scratch/local/62405813/ipykernel_76420/4196971690.py:10: FutureWarning: Pass y=[-2.42412090e-04 -3.68952751e-05 -1.21831894e-04 ...  0.00000000e+00\n",
      "  0.00000000e+00  0.00000000e+00] as keyword args. From version 0.10 passing these as positional arguments will result in an error\n",
      "  mfcc=librosa.feature.mfcc(waveform, n_mfcc=40, n_fft=2048, hop_length=512)\n"
     ]
    },
    {
     "name": "stdout",
     "output_type": "stream",
     "text": [
      "1/1 [==============================] - 0s 16ms/step\n",
      "1/1 [==============================] - 0s 15ms/step\n",
      "1/1 [==============================] - 0s 15ms/step\n",
      "1/1 [==============================] - 0s 14ms/step\n"
     ]
    },
    {
     "name": "stderr",
     "output_type": "stream",
     "text": [
      "/scratch/local/62405813/ipykernel_76420/4196971690.py:10: FutureWarning: Pass y=[-0.0032562  -0.00342256 -0.00534511 ...  0.          0.\n",
      "  0.        ] as keyword args. From version 0.10 passing these as positional arguments will result in an error\n",
      "  mfcc=librosa.feature.mfcc(waveform, n_mfcc=40, n_fft=2048, hop_length=512)\n",
      "/scratch/local/62405813/ipykernel_76420/4196971690.py:10: FutureWarning: Pass y=[ 0.04202372  0.06057823  0.07214892 ... -0.00108683  0.0003649\n",
      "  0.00295538] as keyword args. From version 0.10 passing these as positional arguments will result in an error\n",
      "  mfcc=librosa.feature.mfcc(waveform, n_mfcc=40, n_fft=2048, hop_length=512)\n",
      "/scratch/local/62405813/ipykernel_76420/4196971690.py:10: FutureWarning: Pass y=[ 0.05205953 -0.22085524 -0.38897324 ...  0.          0.\n",
      "  0.        ] as keyword args. From version 0.10 passing these as positional arguments will result in an error\n",
      "  mfcc=librosa.feature.mfcc(waveform, n_mfcc=40, n_fft=2048, hop_length=512)\n"
     ]
    },
    {
     "name": "stdout",
     "output_type": "stream",
     "text": [
      "1/1 [==============================] - 0s 14ms/step\n",
      "1/1 [==============================] - 0s 14ms/step\n",
      "1/1 [==============================] - 0s 14ms/step\n"
     ]
    },
    {
     "name": "stderr",
     "output_type": "stream",
     "text": [
      "/scratch/local/62405813/ipykernel_76420/4196971690.py:10: FutureWarning: Pass y=[ 0.12520707  0.11103839  0.00803143 ...  0.00118089 -0.00225556\n",
      " -0.00516021] as keyword args. From version 0.10 passing these as positional arguments will result in an error\n",
      "  mfcc=librosa.feature.mfcc(waveform, n_mfcc=40, n_fft=2048, hop_length=512)\n",
      "/scratch/local/62405813/ipykernel_76420/4196971690.py:10: FutureWarning: Pass y=[ 0.02881515  0.00546575 -0.01217461 ...  0.          0.\n",
      "  0.        ] as keyword args. From version 0.10 passing these as positional arguments will result in an error\n",
      "  mfcc=librosa.feature.mfcc(waveform, n_mfcc=40, n_fft=2048, hop_length=512)\n",
      "/scratch/local/62405813/ipykernel_76420/4196971690.py:10: FutureWarning: Pass y=[ 1.37090683e-05 -8.34465027e-07 -2.48551369e-05 ... -8.66055489e-05\n",
      " -1.01089478e-04 -1.04665756e-04] as keyword args. From version 0.10 passing these as positional arguments will result in an error\n",
      "  mfcc=librosa.feature.mfcc(waveform, n_mfcc=40, n_fft=2048, hop_length=512)\n"
     ]
    },
    {
     "name": "stdout",
     "output_type": "stream",
     "text": [
      "1/1 [==============================] - 0s 15ms/step\n",
      "1/1 [==============================] - 0s 14ms/step\n",
      "1/1 [==============================] - 0s 14ms/step\n"
     ]
    },
    {
     "name": "stderr",
     "output_type": "stream",
     "text": [
      "/scratch/local/62405813/ipykernel_76420/4196971690.py:10: FutureWarning: Pass y=[0.01502711 0.01726818 0.01652312 ... 0.         0.         0.        ] as keyword args. From version 0.10 passing these as positional arguments will result in an error\n",
      "  mfcc=librosa.feature.mfcc(waveform, n_mfcc=40, n_fft=2048, hop_length=512)\n",
      "/scratch/local/62405813/ipykernel_76420/4196971690.py:10: FutureWarning: Pass y=[-0.00020868 -0.00020659 -0.00020999 ...  0.00251663  0.002478\n",
      "  0.00148678] as keyword args. From version 0.10 passing these as positional arguments will result in an error\n",
      "  mfcc=librosa.feature.mfcc(waveform, n_mfcc=40, n_fft=2048, hop_length=512)\n",
      "/scratch/local/62405813/ipykernel_76420/4196971690.py:10: FutureWarning: Pass y=[-3.6597252e-05  5.4597855e-05  2.5093555e-05 ...  0.0000000e+00\n",
      "  0.0000000e+00  0.0000000e+00] as keyword args. From version 0.10 passing these as positional arguments will result in an error\n",
      "  mfcc=librosa.feature.mfcc(waveform, n_mfcc=40, n_fft=2048, hop_length=512)\n"
     ]
    },
    {
     "name": "stdout",
     "output_type": "stream",
     "text": [
      "1/1 [==============================] - 0s 15ms/step\n",
      "1/1 [==============================] - 0s 15ms/step\n",
      "1/1 [==============================] - 0s 15ms/step\n"
     ]
    },
    {
     "name": "stderr",
     "output_type": "stream",
     "text": [
      "/scratch/local/62405813/ipykernel_76420/4196971690.py:10: FutureWarning: Pass y=[-0.00010186 -0.00013477  0.00016272 ...  0.          0.\n",
      "  0.        ] as keyword args. From version 0.10 passing these as positional arguments will result in an error\n",
      "  mfcc=librosa.feature.mfcc(waveform, n_mfcc=40, n_fft=2048, hop_length=512)\n",
      "/scratch/local/62405813/ipykernel_76420/4196971690.py:10: FutureWarning: Pass y=[ 0.08177358  0.08144432 -0.02213794 ...  0.          0.\n",
      "  0.        ] as keyword args. From version 0.10 passing these as positional arguments will result in an error\n",
      "  mfcc=librosa.feature.mfcc(waveform, n_mfcc=40, n_fft=2048, hop_length=512)\n",
      "/scratch/local/62405813/ipykernel_76420/4196971690.py:10: FutureWarning: Pass y=[-0.16321707 -0.18154216 -0.16705662 ...  0.          0.\n",
      "  0.        ] as keyword args. From version 0.10 passing these as positional arguments will result in an error\n",
      "  mfcc=librosa.feature.mfcc(waveform, n_mfcc=40, n_fft=2048, hop_length=512)\n"
     ]
    },
    {
     "name": "stdout",
     "output_type": "stream",
     "text": [
      "1/1 [==============================] - 0s 15ms/step\n",
      "1/1 [==============================] - 0s 14ms/step\n",
      "1/1 [==============================] - 0s 14ms/step\n"
     ]
    },
    {
     "name": "stderr",
     "output_type": "stream",
     "text": [
      "/scratch/local/62405813/ipykernel_76420/4196971690.py:10: FutureWarning: Pass y=[-0.05152571 -0.02992386  0.01736343 ...  0.          0.\n",
      "  0.        ] as keyword args. From version 0.10 passing these as positional arguments will result in an error\n",
      "  mfcc=librosa.feature.mfcc(waveform, n_mfcc=40, n_fft=2048, hop_length=512)\n",
      "/scratch/local/62405813/ipykernel_76420/4196971690.py:10: FutureWarning: Pass y=[-1.7994642e-04 -1.1712313e-04 -3.8683414e-05 ...  0.0000000e+00\n",
      "  0.0000000e+00  0.0000000e+00] as keyword args. From version 0.10 passing these as positional arguments will result in an error\n",
      "  mfcc=librosa.feature.mfcc(waveform, n_mfcc=40, n_fft=2048, hop_length=512)\n",
      "/scratch/local/62405813/ipykernel_76420/4196971690.py:10: FutureWarning: Pass y=[ 3.0219555e-05 -4.0650368e-05  6.4790249e-05 ...  0.0000000e+00\n",
      "  0.0000000e+00  0.0000000e+00] as keyword args. From version 0.10 passing these as positional arguments will result in an error\n",
      "  mfcc=librosa.feature.mfcc(waveform, n_mfcc=40, n_fft=2048, hop_length=512)\n"
     ]
    },
    {
     "name": "stdout",
     "output_type": "stream",
     "text": [
      "1/1 [==============================] - 0s 14ms/step\n",
      "1/1 [==============================] - 0s 14ms/step\n",
      "1/1 [==============================] - 0s 14ms/step\n"
     ]
    },
    {
     "name": "stderr",
     "output_type": "stream",
     "text": [
      "/scratch/local/62405813/ipykernel_76420/4196971690.py:10: FutureWarning: Pass y=[-1.3619661e-04  6.0081482e-05 -1.4781952e-04 ...  0.0000000e+00\n",
      "  0.0000000e+00  0.0000000e+00] as keyword args. From version 0.10 passing these as positional arguments will result in an error\n",
      "  mfcc=librosa.feature.mfcc(waveform, n_mfcc=40, n_fft=2048, hop_length=512)\n",
      "/scratch/local/62405813/ipykernel_76420/4196971690.py:10: FutureWarning: Pass y=[6.502867e-05 7.694960e-05 8.517504e-05 ... 0.000000e+00 0.000000e+00\n",
      " 0.000000e+00] as keyword args. From version 0.10 passing these as positional arguments will result in an error\n",
      "  mfcc=librosa.feature.mfcc(waveform, n_mfcc=40, n_fft=2048, hop_length=512)\n",
      "/scratch/local/62405813/ipykernel_76420/4196971690.py:10: FutureWarning: Pass y=[-4.9114227e-05 -9.3400478e-05 -7.5638294e-05 ...  0.0000000e+00\n",
      "  0.0000000e+00  0.0000000e+00] as keyword args. From version 0.10 passing these as positional arguments will result in an error\n",
      "  mfcc=librosa.feature.mfcc(waveform, n_mfcc=40, n_fft=2048, hop_length=512)\n"
     ]
    },
    {
     "name": "stdout",
     "output_type": "stream",
     "text": [
      "1/1 [==============================] - 0s 15ms/step\n",
      "1/1 [==============================] - 0s 15ms/step\n",
      "1/1 [==============================] - 0s 15ms/step\n"
     ]
    },
    {
     "name": "stderr",
     "output_type": "stream",
     "text": [
      "/scratch/local/62405813/ipykernel_76420/4196971690.py:10: FutureWarning: Pass y=[-0.00058079 -0.00038141 -0.00033295 ...  0.          0.\n",
      "  0.        ] as keyword args. From version 0.10 passing these as positional arguments will result in an error\n",
      "  mfcc=librosa.feature.mfcc(waveform, n_mfcc=40, n_fft=2048, hop_length=512)\n",
      "/scratch/local/62405813/ipykernel_76420/4196971690.py:10: FutureWarning: Pass y=[1.9627810e-04 5.2559376e-04 8.1896782e-05 ... 6.3347816e-04 4.8083067e-04\n",
      " 4.2879581e-04] as keyword args. From version 0.10 passing these as positional arguments will result in an error\n",
      "  mfcc=librosa.feature.mfcc(waveform, n_mfcc=40, n_fft=2048, hop_length=512)\n",
      "/scratch/local/62405813/ipykernel_76420/4196971690.py:10: FutureWarning: Pass y=[-0.00026166  0.00038475  0.00068074 ...  0.          0.\n",
      "  0.        ] as keyword args. From version 0.10 passing these as positional arguments will result in an error\n",
      "  mfcc=librosa.feature.mfcc(waveform, n_mfcc=40, n_fft=2048, hop_length=512)\n"
     ]
    },
    {
     "name": "stdout",
     "output_type": "stream",
     "text": [
      "1/1 [==============================] - 0s 15ms/step\n",
      "1/1 [==============================] - 0s 14ms/step\n",
      "1/1 [==============================] - 0s 14ms/step\n"
     ]
    },
    {
     "name": "stderr",
     "output_type": "stream",
     "text": [
      "/scratch/local/62405813/ipykernel_76420/4196971690.py:10: FutureWarning: Pass y=[-6.1869621e-05  1.3822317e-04  2.9462576e-04 ... -1.6313791e-04\n",
      " -1.9657612e-04 -1.7046928e-04] as keyword args. From version 0.10 passing these as positional arguments will result in an error\n",
      "  mfcc=librosa.feature.mfcc(waveform, n_mfcc=40, n_fft=2048, hop_length=512)\n",
      "/scratch/local/62405813/ipykernel_76420/4196971690.py:10: FutureWarning: Pass y=[0.00031197 0.00189656 0.00434685 ... 0.         0.         0.        ] as keyword args. From version 0.10 passing these as positional arguments will result in an error\n",
      "  mfcc=librosa.feature.mfcc(waveform, n_mfcc=40, n_fft=2048, hop_length=512)\n",
      "/scratch/local/62405813/ipykernel_76420/4196971690.py:10: FutureWarning: Pass y=[-1.8179417e-05 -9.6023083e-05 -8.5830688e-06 ...  0.0000000e+00\n",
      "  0.0000000e+00  0.0000000e+00] as keyword args. From version 0.10 passing these as positional arguments will result in an error\n",
      "  mfcc=librosa.feature.mfcc(waveform, n_mfcc=40, n_fft=2048, hop_length=512)\n"
     ]
    },
    {
     "name": "stdout",
     "output_type": "stream",
     "text": [
      "1/1 [==============================] - 0s 14ms/step\n",
      "1/1 [==============================] - 0s 14ms/step\n",
      "1/1 [==============================] - 0s 14ms/step\n"
     ]
    },
    {
     "name": "stderr",
     "output_type": "stream",
     "text": [
      "/scratch/local/62405813/ipykernel_76420/4196971690.py:10: FutureWarning: Pass y=[ 0.00137997 -0.00205106 -0.00836968 ...  0.          0.\n",
      "  0.        ] as keyword args. From version 0.10 passing these as positional arguments will result in an error\n",
      "  mfcc=librosa.feature.mfcc(waveform, n_mfcc=40, n_fft=2048, hop_length=512)\n",
      "/scratch/local/62405813/ipykernel_76420/4196971690.py:10: FutureWarning: Pass y=[0.20529449 0.22801876 0.21495855 ... 0.         0.         0.        ] as keyword args. From version 0.10 passing these as positional arguments will result in an error\n",
      "  mfcc=librosa.feature.mfcc(waveform, n_mfcc=40, n_fft=2048, hop_length=512)\n",
      "/scratch/local/62405813/ipykernel_76420/4196971690.py:10: FutureWarning: Pass y=[0.00722349 0.00460649 0.00335312 ... 0.         0.         0.        ] as keyword args. From version 0.10 passing these as positional arguments will result in an error\n",
      "  mfcc=librosa.feature.mfcc(waveform, n_mfcc=40, n_fft=2048, hop_length=512)\n"
     ]
    },
    {
     "name": "stdout",
     "output_type": "stream",
     "text": [
      "1/1 [==============================] - 0s 15ms/step\n",
      "1/1 [==============================] - 0s 15ms/step\n",
      "1/1 [==============================] - 0s 15ms/step\n"
     ]
    },
    {
     "name": "stderr",
     "output_type": "stream",
     "text": [
      "/scratch/local/62405813/ipykernel_76420/4196971690.py:10: FutureWarning: Pass y=[ 1.7940998e-05 -2.9861927e-05  3.2722950e-05 ...  0.0000000e+00\n",
      "  0.0000000e+00  0.0000000e+00] as keyword args. From version 0.10 passing these as positional arguments will result in an error\n",
      "  mfcc=librosa.feature.mfcc(waveform, n_mfcc=40, n_fft=2048, hop_length=512)\n",
      "/scratch/local/62405813/ipykernel_76420/4196971690.py:10: FutureWarning: Pass y=[0.00033331 0.00033778 0.00013661 ... 0.         0.         0.        ] as keyword args. From version 0.10 passing these as positional arguments will result in an error\n",
      "  mfcc=librosa.feature.mfcc(waveform, n_mfcc=40, n_fft=2048, hop_length=512)\n",
      "/scratch/local/62405813/ipykernel_76420/4196971690.py:10: FutureWarning: Pass y=[-6.9797039e-05 -1.2570620e-04 -1.8286705e-04 ... -6.5326691e-05\n",
      " -3.5166740e-05 -9.6440315e-05] as keyword args. From version 0.10 passing these as positional arguments will result in an error\n",
      "  mfcc=librosa.feature.mfcc(waveform, n_mfcc=40, n_fft=2048, hop_length=512)\n"
     ]
    },
    {
     "name": "stdout",
     "output_type": "stream",
     "text": [
      "1/1 [==============================] - 0s 15ms/step\n",
      "1/1 [==============================] - 0s 14ms/step\n",
      "1/1 [==============================] - 0s 14ms/step\n"
     ]
    },
    {
     "name": "stderr",
     "output_type": "stream",
     "text": [
      "/scratch/local/62405813/ipykernel_76420/4196971690.py:10: FutureWarning: Pass y=[ 8.3923340e-05  1.0919571e-04 -5.1319599e-05 ...  0.0000000e+00\n",
      "  0.0000000e+00  0.0000000e+00] as keyword args. From version 0.10 passing these as positional arguments will result in an error\n",
      "  mfcc=librosa.feature.mfcc(waveform, n_mfcc=40, n_fft=2048, hop_length=512)\n",
      "/scratch/local/62405813/ipykernel_76420/4196971690.py:10: FutureWarning: Pass y=[ 0.06008047 -0.04677272 -0.12876505 ...  0.          0.\n",
      "  0.        ] as keyword args. From version 0.10 passing these as positional arguments will result in an error\n",
      "  mfcc=librosa.feature.mfcc(waveform, n_mfcc=40, n_fft=2048, hop_length=512)\n",
      "/scratch/local/62405813/ipykernel_76420/4196971690.py:10: FutureWarning: Pass y=[-1.3076663e-03  4.2128801e-02  6.8079174e-02 ... -5.9843063e-05\n",
      " -3.7431717e-05 -8.3386898e-05] as keyword args. From version 0.10 passing these as positional arguments will result in an error\n",
      "  mfcc=librosa.feature.mfcc(waveform, n_mfcc=40, n_fft=2048, hop_length=512)\n"
     ]
    },
    {
     "name": "stdout",
     "output_type": "stream",
     "text": [
      "1/1 [==============================] - 0s 15ms/step\n",
      "1/1 [==============================] - 0s 14ms/step\n",
      "1/1 [==============================] - 0s 14ms/step\n"
     ]
    },
    {
     "name": "stderr",
     "output_type": "stream",
     "text": [
      "/scratch/local/62405813/ipykernel_76420/4196971690.py:10: FutureWarning: Pass y=[-5.1081181e-05  2.9325485e-05  6.4373016e-06 ...  0.0000000e+00\n",
      "  0.0000000e+00  0.0000000e+00] as keyword args. From version 0.10 passing these as positional arguments will result in an error\n",
      "  mfcc=librosa.feature.mfcc(waveform, n_mfcc=40, n_fft=2048, hop_length=512)\n",
      "/scratch/local/62405813/ipykernel_76420/4196971690.py:10: FutureWarning: Pass y=[ 0.00110233 -0.01973426 -0.01444936 ...  0.          0.\n",
      "  0.        ] as keyword args. From version 0.10 passing these as positional arguments will result in an error\n",
      "  mfcc=librosa.feature.mfcc(waveform, n_mfcc=40, n_fft=2048, hop_length=512)\n",
      "/scratch/local/62405813/ipykernel_76420/4196971690.py:10: FutureWarning: Pass y=[-0.04662436  0.33776325  0.2007041  ...  0.          0.\n",
      "  0.        ] as keyword args. From version 0.10 passing these as positional arguments will result in an error\n",
      "  mfcc=librosa.feature.mfcc(waveform, n_mfcc=40, n_fft=2048, hop_length=512)\n"
     ]
    },
    {
     "name": "stdout",
     "output_type": "stream",
     "text": [
      "1/1 [==============================] - 0s 14ms/step\n",
      "1/1 [==============================] - 0s 15ms/step\n",
      "1/1 [==============================] - 0s 15ms/step\n"
     ]
    },
    {
     "name": "stderr",
     "output_type": "stream",
     "text": [
      "/scratch/local/62405813/ipykernel_76420/4196971690.py:10: FutureWarning: Pass y=[-0.04662436  0.33776325  0.2007041  ...  0.          0.\n",
      "  0.        ] as keyword args. From version 0.10 passing these as positional arguments will result in an error\n",
      "  mfcc=librosa.feature.mfcc(waveform, n_mfcc=40, n_fft=2048, hop_length=512)\n",
      "/scratch/local/62405813/ipykernel_76420/4196971690.py:10: FutureWarning: Pass y=[ 9.3102455e-05  7.8678131e-06 -2.0861626e-05 ...  0.0000000e+00\n",
      "  0.0000000e+00  0.0000000e+00] as keyword args. From version 0.10 passing these as positional arguments will result in an error\n",
      "  mfcc=librosa.feature.mfcc(waveform, n_mfcc=40, n_fft=2048, hop_length=512)\n",
      "/scratch/local/62405813/ipykernel_76420/4196971690.py:10: FutureWarning: Pass y=[-0.02668154 -0.00414938  0.03445226 ...  0.00125188  0.00138026\n",
      "  0.00144273] as keyword args. From version 0.10 passing these as positional arguments will result in an error\n",
      "  mfcc=librosa.feature.mfcc(waveform, n_mfcc=40, n_fft=2048, hop_length=512)\n"
     ]
    },
    {
     "name": "stdout",
     "output_type": "stream",
     "text": [
      "1/1 [==============================] - 0s 15ms/step\n"
     ]
    },
    {
     "name": "stderr",
     "output_type": "stream",
     "text": [
      "/scratch/local/62405813/ipykernel_76420/4196971690.py:10: FutureWarning: Pass y=[-0.00137681 -0.00144762 -0.00143474 ...  0.          0.\n",
      "  0.        ] as keyword args. From version 0.10 passing these as positional arguments will result in an error\n",
      "  mfcc=librosa.feature.mfcc(waveform, n_mfcc=40, n_fft=2048, hop_length=512)\n"
     ]
    }
   ],
   "source": [
    "os.chdir(\"/blue/eel6825/nathan.heck/FinalProject/\")\n",
    "os.chdir(\"SampleLib\")\n",
    "file_names = glob.glob(\"*\")\n",
    "os.mkdir(\"Hihat\")\n",
    "os.mkdir(\"Snare\")\n",
    "os.mkdir(\"Kick\")\n",
    "for wav in file_names:\n",
    "    waveform, samplerate = librosa.load(wav, sr=44100, mono=True)\n",
    "    waveform = librosa.util.fix_length(waveform, size=50000)\n",
    "    mfcc=librosa.feature.mfcc(waveform, n_mfcc=40, n_fft=2048, hop_length=512)\n",
    "    features = librosa.util.normalize(mfcc)\n",
    "    features = features[np.newaxis, ...]\n",
    "    probs = model.predict(features)\n",
    "    label = np.argmax(probs)\n",
    "    if label == 0:\n",
    "        shutil.copy(wav, \"/blue/eel6825/nathan.heck/FinalProject/SampleLib/Hihat/\"+wav)\n",
    "        os.remove(wav)\n",
    "    elif label == 1:\n",
    "        shutil.copy(wav, \"/blue/eel6825/nathan.heck/FinalProject/SampleLib/Snare/\"+wav)\n",
    "        os.remove(wav)\n",
    "    elif label == 2:\n",
    "        shutil.copy(wav, \"/blue/eel6825/nathan.heck/FinalProject/SampleLib/Kick/\"+wav)\n",
    "        os.remove(wav)\n",
    "\n"
   ]
  },
  {
   "cell_type": "code",
   "execution_count": null,
   "id": "d002d84e-4477-4b52-b3d8-61c5b5ab4df4",
   "metadata": {},
   "outputs": [],
   "source": []
  }
 ],
 "metadata": {
  "kernelspec": {
   "display_name": "UFRC Python-3.10",
   "language": "python",
   "name": "python3-3.10-ufrc"
  },
  "language_info": {
   "codemirror_mode": {
    "name": "ipython",
    "version": 3
   },
   "file_extension": ".py",
   "mimetype": "text/x-python",
   "name": "python",
   "nbconvert_exporter": "python",
   "pygments_lexer": "ipython3",
   "version": "3.10.5"
  }
 },
 "nbformat": 4,
 "nbformat_minor": 5
}
