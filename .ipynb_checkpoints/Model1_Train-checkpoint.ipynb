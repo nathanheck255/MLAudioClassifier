{
 "cells": [
  {
   "cell_type": "code",
   "execution_count": 1,
   "id": "998ccdc3-91f4-443e-be3e-5aa8f7c3540a",
   "metadata": {},
   "outputs": [
    {
     "name": "stderr",
     "output_type": "stream",
     "text": [
      "2023-04-25 14:27:15.966714: I tensorflow/core/platform/cpu_feature_guard.cc:193] This TensorFlow binary is optimized with oneAPI Deep Neural Network Library (oneDNN) to use the following CPU instructions in performance-critical operations:  SSE4.1 SSE4.2 AVX AVX2 FMA\n",
      "To enable them in other operations, rebuild TensorFlow with the appropriate compiler flags.\n"
     ]
    }
   ],
   "source": [
    "import numpy as np\n",
    "import json\n",
    "import pandas as pd\n",
    "from ast import literal_eval\n",
    "import librosa\n",
    "import keras\n",
    "import os\n",
    "\n",
    "import matplotlib.pyplot as plt\n",
    "from sklearn.model_selection import train_test_split"
   ]
  },
  {
   "cell_type": "code",
   "execution_count": 2,
   "id": "d5229d4f-5033-4f7c-bd55-3f76ab727f70",
   "metadata": {},
   "outputs": [],
   "source": [
    "# please set this variable to where you cloned the git repo \"final-project-code-nathanheck255\"\n",
    "\n",
    "filepath = \"/blue/eel6825/nathan.heck/FinalProject/final-project-code-nathanheck255\"\n",
    "os.chdir(filepath)"
   ]
  },
  {
   "cell_type": "code",
   "execution_count": 3,
   "id": "cb7909c4-37c4-4604-a915-f3acbc2f858e",
   "metadata": {},
   "outputs": [],
   "source": [
    "data_path='mfcc_train_data.json'\n",
    "with open(data_path, \"r\") as fp:\n",
    "        data = json.load(fp)\n",
    "X = np.array(data[\"mfcc\"])\n",
    "y = np.array(data[\"label\"])\n"
   ]
  },
  {
   "cell_type": "code",
   "execution_count": 4,
   "id": "e941e073-abb4-4113-a4c2-a6396a778efa",
   "metadata": {},
   "outputs": [],
   "source": [
    "X_train, X_val, y_train, y_val = train_test_split(X, y, test_size=0.2, stratify=y)"
   ]
  },
  {
   "cell_type": "code",
   "execution_count": 5,
   "id": "9db09973-274d-48dc-8c1f-81aa6b50a7c9",
   "metadata": {},
   "outputs": [
    {
     "name": "stdout",
     "output_type": "stream",
     "text": [
      "40 98\n"
     ]
    }
   ],
   "source": [
    "# this should be 40 x 98\n",
    "print(X.shape[1], X.shape[2])"
   ]
  },
  {
   "cell_type": "code",
   "execution_count": 6,
   "id": "2df89000-d084-4efb-8431-58d00d4dc28e",
   "metadata": {},
   "outputs": [],
   "source": [
    " model = keras.Sequential([\n",
    "\n",
    "        # input layer\n",
    "        keras.layers.Flatten(input_shape=(X.shape[1], X.shape[2])),\n",
    "\n",
    "        # 1st dense layer\n",
    "        keras.layers.Dense(512, activation='relu'),\n",
    "\n",
    "        # 2nd dense layer\n",
    "        keras.layers.Dense(256, activation='relu'),\n",
    "\n",
    "        # 3rd dense layer\n",
    "        keras.layers.Dense(64, activation='relu'),\n",
    "\n",
    "        # output layer\n",
    "        keras.layers.Dense(3, activation='softmax')\n",
    "    ])\n",
    "    "
   ]
  },
  {
   "cell_type": "code",
   "execution_count": 7,
   "id": "60254885-7166-49df-911f-10954c3d42d9",
   "metadata": {},
   "outputs": [],
   "source": [
    "optimiser = keras.optimizers.Adam(learning_rate=0.0001)\n",
    "\n",
    "model.compile(optimizer=optimiser,\n",
    "                  loss='sparse_categorical_crossentropy',\n",
    "                  metrics=['accuracy'])"
   ]
  },
  {
   "cell_type": "code",
   "execution_count": 8,
   "id": "d24998c7-7fc8-4a94-875a-0ce444b2bd02",
   "metadata": {},
   "outputs": [
    {
     "name": "stdout",
     "output_type": "stream",
     "text": [
      "Model: \"sequential\"\n",
      "_________________________________________________________________\n",
      " Layer (type)                Output Shape              Param #   \n",
      "=================================================================\n",
      " flatten (Flatten)           (None, 3920)              0         \n",
      "                                                                 \n",
      " dense (Dense)               (None, 512)               2007552   \n",
      "                                                                 \n",
      " dense_1 (Dense)             (None, 256)               131328    \n",
      "                                                                 \n",
      " dense_2 (Dense)             (None, 64)                16448     \n",
      "                                                                 \n",
      " dense_3 (Dense)             (None, 3)                 195       \n",
      "                                                                 \n",
      "=================================================================\n",
      "Total params: 2,155,523\n",
      "Trainable params: 2,155,523\n",
      "Non-trainable params: 0\n",
      "_________________________________________________________________\n"
     ]
    }
   ],
   "source": [
    "model.summary()"
   ]
  },
  {
   "cell_type": "code",
   "execution_count": 9,
   "id": "9901bc37-0ede-49b0-bdfd-04dcaa5e040e",
   "metadata": {
    "tags": []
   },
   "outputs": [
    {
     "name": "stdout",
     "output_type": "stream",
     "text": [
      "Epoch 1/30\n",
      "23/23 [==============================] - 1s 16ms/step - loss: 0.8790 - accuracy: 0.5954 - val_loss: 0.6731 - val_accuracy: 0.8750\n",
      "Epoch 2/30\n",
      "23/23 [==============================] - 0s 10ms/step - loss: 0.5414 - accuracy: 0.8883 - val_loss: 0.3976 - val_accuracy: 0.9457\n",
      "Epoch 3/30\n",
      "23/23 [==============================] - 0s 10ms/step - loss: 0.3231 - accuracy: 0.9632 - val_loss: 0.2395 - val_accuracy: 0.9511\n",
      "Epoch 4/30\n",
      "23/23 [==============================] - 0s 10ms/step - loss: 0.2133 - accuracy: 0.9700 - val_loss: 0.1743 - val_accuracy: 0.9620\n",
      "Epoch 5/30\n",
      "23/23 [==============================] - 0s 10ms/step - loss: 0.1545 - accuracy: 0.9768 - val_loss: 0.1435 - val_accuracy: 0.9674\n",
      "Epoch 6/30\n",
      "23/23 [==============================] - 0s 11ms/step - loss: 0.1214 - accuracy: 0.9796 - val_loss: 0.1192 - val_accuracy: 0.9783\n",
      "Epoch 7/30\n",
      "23/23 [==============================] - 0s 11ms/step - loss: 0.0998 - accuracy: 0.9823 - val_loss: 0.1140 - val_accuracy: 0.9728\n",
      "Epoch 8/30\n",
      "23/23 [==============================] - 0s 11ms/step - loss: 0.0874 - accuracy: 0.9796 - val_loss: 0.1012 - val_accuracy: 0.9728\n",
      "Epoch 9/30\n",
      "23/23 [==============================] - 0s 11ms/step - loss: 0.0766 - accuracy: 0.9864 - val_loss: 0.1033 - val_accuracy: 0.9728\n",
      "Epoch 10/30\n",
      "23/23 [==============================] - 0s 11ms/step - loss: 0.0670 - accuracy: 0.9864 - val_loss: 0.0902 - val_accuracy: 0.9728\n",
      "Epoch 11/30\n",
      "23/23 [==============================] - 0s 10ms/step - loss: 0.0585 - accuracy: 0.9877 - val_loss: 0.0868 - val_accuracy: 0.9728\n",
      "Epoch 12/30\n",
      "23/23 [==============================] - 0s 10ms/step - loss: 0.0524 - accuracy: 0.9864 - val_loss: 0.0825 - val_accuracy: 0.9728\n",
      "Epoch 13/30\n",
      "23/23 [==============================] - 0s 10ms/step - loss: 0.0495 - accuracy: 0.9905 - val_loss: 0.0805 - val_accuracy: 0.9728\n",
      "Epoch 14/30\n",
      "23/23 [==============================] - 0s 10ms/step - loss: 0.0407 - accuracy: 0.9905 - val_loss: 0.0884 - val_accuracy: 0.9674\n",
      "Epoch 15/30\n",
      "23/23 [==============================] - 0s 10ms/step - loss: 0.0371 - accuracy: 0.9959 - val_loss: 0.0793 - val_accuracy: 0.9728\n",
      "Epoch 16/30\n",
      "23/23 [==============================] - 0s 11ms/step - loss: 0.0300 - accuracy: 0.9932 - val_loss: 0.0748 - val_accuracy: 0.9728\n",
      "Epoch 17/30\n",
      "23/23 [==============================] - 0s 10ms/step - loss: 0.0271 - accuracy: 0.9946 - val_loss: 0.0760 - val_accuracy: 0.9728\n",
      "Epoch 18/30\n",
      "23/23 [==============================] - 0s 10ms/step - loss: 0.0246 - accuracy: 0.9946 - val_loss: 0.0766 - val_accuracy: 0.9728\n",
      "Epoch 19/30\n",
      "23/23 [==============================] - 0s 11ms/step - loss: 0.0203 - accuracy: 0.9973 - val_loss: 0.0730 - val_accuracy: 0.9728\n",
      "Epoch 20/30\n",
      "23/23 [==============================] - 0s 10ms/step - loss: 0.0181 - accuracy: 0.9973 - val_loss: 0.0782 - val_accuracy: 0.9728\n",
      "Epoch 21/30\n",
      "23/23 [==============================] - 0s 10ms/step - loss: 0.0148 - accuracy: 1.0000 - val_loss: 0.0727 - val_accuracy: 0.9728\n",
      "Epoch 22/30\n",
      "23/23 [==============================] - 0s 11ms/step - loss: 0.0133 - accuracy: 1.0000 - val_loss: 0.0733 - val_accuracy: 0.9728\n",
      "Epoch 23/30\n",
      "23/23 [==============================] - 0s 10ms/step - loss: 0.0121 - accuracy: 1.0000 - val_loss: 0.0745 - val_accuracy: 0.9728\n",
      "Epoch 24/30\n",
      "23/23 [==============================] - 0s 10ms/step - loss: 0.0107 - accuracy: 1.0000 - val_loss: 0.0775 - val_accuracy: 0.9728\n",
      "Epoch 25/30\n",
      "23/23 [==============================] - 0s 10ms/step - loss: 0.0091 - accuracy: 1.0000 - val_loss: 0.0732 - val_accuracy: 0.9728\n",
      "Epoch 26/30\n",
      "23/23 [==============================] - 0s 10ms/step - loss: 0.0097 - accuracy: 1.0000 - val_loss: 0.0738 - val_accuracy: 0.9728\n",
      "Epoch 27/30\n",
      "23/23 [==============================] - 0s 10ms/step - loss: 0.0080 - accuracy: 1.0000 - val_loss: 0.0781 - val_accuracy: 0.9674\n",
      "Epoch 28/30\n",
      "23/23 [==============================] - 0s 11ms/step - loss: 0.0075 - accuracy: 1.0000 - val_loss: 0.0797 - val_accuracy: 0.9674\n",
      "Epoch 29/30\n",
      "23/23 [==============================] - 0s 10ms/step - loss: 0.0069 - accuracy: 1.0000 - val_loss: 0.0831 - val_accuracy: 0.9674\n",
      "Epoch 30/30\n",
      "23/23 [==============================] - 0s 10ms/step - loss: 0.0060 - accuracy: 1.0000 - val_loss: 0.0916 - val_accuracy: 0.9674\n"
     ]
    }
   ],
   "source": [
    "history = model.fit(X_train, y_train, validation_data=(X_val, y_val), batch_size=32, epochs=30)\n",
    "model.save('model.h5')"
   ]
  },
  {
   "cell_type": "code",
   "execution_count": 10,
   "id": "d681b2b9-7f0b-4705-a8af-7083f010c9a9",
   "metadata": {},
   "outputs": [],
   "source": [
    "from keras.models import load_model\n",
    "\n",
    "model=load_model('model.h5')"
   ]
  },
  {
   "cell_type": "code",
   "execution_count": 11,
   "id": "4e27c8ad-66ba-43ad-b3e9-0b458c5cce16",
   "metadata": {},
   "outputs": [
    {
     "name": "stdout",
     "output_type": "stream",
     "text": [
      "dict_keys(['loss', 'accuracy', 'val_loss', 'val_accuracy'])\n"
     ]
    },
    {
     "data": {
      "image/png": "[encoded data removed]",
      "text/plain": [
       "<Figure size 432x288 with 1 Axes>"
      ]
     },
     "metadata": {
      "needs_background": "light"
     },
     "output_type": "display_data"
    },
    {
     "data": {
      "image/png": "[encoded data removed]",
      "text/plain": [
       "<Figure size 432x288 with 1 Axes>"
      ]
     },
     "metadata": {
      "needs_background": "light"
     },
     "output_type": "display_data"
    }
   ],
   "source": [
    "print(history.history.keys())\n",
    "# summarize history for accuracy\n",
    "plt.plot(history.history['accuracy'])\n",
    "plt.plot(history.history['val_accuracy'])\n",
    "plt.title('model 1 accuracy')\n",
    "plt.ylabel('accuracy')\n",
    "plt.xlabel('epoch')\n",
    "plt.legend(['train', 'val'], loc='upper left')\n",
    "plt.savefig('accuracy.png')\n",
    "plt.show()\n",
    "# summarize history for loss\n",
    "plt.plot(history.history['loss'])\n",
    "plt.plot(history.history['val_loss'])\n",
    "plt.title('model 1 loss')\n",
    "plt.ylabel('loss')\n",
    "plt.xlabel('epoch')\n",
    "plt.legend(['train', 'val'], loc='upper left')\n",
    "plt.savefig('loss.png')\n",
    "plt.show()"
   ]
  },
  {
   "cell_type": "code",
   "execution_count": null,
   "id": "0467736e-a850-47fc-9cf8-8257ff07ca5e",
   "metadata": {},
   "outputs": [],
   "source": []
  }
 ],
 "metadata": {
  "kernelspec": {
   "display_name": "UFRC Python-3.10",
   "language": "python",
   "name": "python3-3.10-ufrc"
  },
  "language_info": {
   "codemirror_mode": {
    "name": "ipython",
    "version": 3
   },
   "file_extension": ".py",
   "mimetype": "text/x-python",
   "name": "python",
   "nbconvert_exporter": "python",
   "pygments_lexer": "ipython3",
   "version": "3.10.5"
  }
 },
 "nbformat": 4,
 "nbformat_minor": 5
}
