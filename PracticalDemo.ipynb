{
 "cells": [
  {
   "cell_type": "code",
   "execution_count": 26,
   "id": "5c89f76a-0384-425b-a534-e3c49e081b9c",
   "metadata": {},
   "outputs": [],
   "source": [
    "import os\n",
    "import numpy as np\n",
    "\n",
    "import glob\n",
    "import librosa\n",
    "import librosa.display\n",
    "\n",
    "import keras\n",
    "\n",
    "import shutil"
   ]
  },
  {
   "cell_type": "code",
   "execution_count": 27,
   "id": "ea9763ae",
   "metadata": {},
   "outputs": [],
   "source": [
    "filepath = \"C:/Users/nheck/Desktop/final-project-code-nathanheck255\"\n",
    "os.chdir(filepath)"
   ]
  },
  {
   "cell_type": "code",
   "execution_count": 28,
   "id": "fe0877b4-5af0-477b-8efa-8346f8feaea3",
   "metadata": {},
   "outputs": [],
   "source": [
    "from keras.models import load_model\n",
    "model=load_model('model.h5')"
   ]
  },
  {
   "cell_type": "code",
   "execution_count": 29,
   "id": "580d3a83-06f6-41a5-a8cb-41a4aec68f54",
   "metadata": {},
   "outputs": [
    {
     "name": "stdout",
     "output_type": "stream",
     "text": [
      "1/1 [==============================] - 0s 64ms/step\n",
      "1/1 [==============================] - 0s 32ms/step\n",
      "1/1 [==============================] - 0s 34ms/step\n",
      "1/1 [==============================] - 0s 25ms/step\n",
      "1/1 [==============================] - 0s 28ms/step\n",
      "1/1 [==============================] - 0s 25ms/step\n",
      "1/1 [==============================] - 0s 35ms/step\n",
      "1/1 [==============================] - 0s 23ms/step\n",
      "1/1 [==============================] - 0s 28ms/step\n",
      "1/1 [==============================] - 0s 25ms/step\n",
      "1/1 [==============================] - 0s 39ms/step\n",
      "1/1 [==============================] - 0s 72ms/step\n",
      "1/1 [==============================] - 0s 87ms/step\n",
      "1/1 [==============================] - 0s 40ms/step\n",
      "1/1 [==============================] - 0s 22ms/step\n",
      "1/1 [==============================] - 0s 20ms/step\n",
      "1/1 [==============================] - 0s 45ms/step\n",
      "1/1 [==============================] - 0s 30ms/step\n",
      "1/1 [==============================] - 0s 25ms/step\n",
      "1/1 [==============================] - 0s 37ms/step\n",
      "1/1 [==============================] - 0s 31ms/step\n",
      "1/1 [==============================] - 0s 26ms/step\n",
      "1/1 [==============================] - 0s 30ms/step\n",
      "1/1 [==============================] - 0s 27ms/step\n",
      "1/1 [==============================] - 0s 23ms/step\n",
      "1/1 [==============================] - 0s 21ms/step\n",
      "1/1 [==============================] - 0s 35ms/step\n",
      "1/1 [==============================] - 0s 70ms/step\n",
      "1/1 [==============================] - 0s 91ms/step\n",
      "1/1 [==============================] - 0s 90ms/step\n",
      "1/1 [==============================] - 0s 28ms/step\n",
      "1/1 [==============================] - 0s 35ms/step\n",
      "1/1 [==============================] - 0s 30ms/step\n",
      "1/1 [==============================] - 0s 39ms/step\n",
      "1/1 [==============================] - 0s 25ms/step\n",
      "1/1 [==============================] - 0s 52ms/step\n",
      "1/1 [==============================] - 0s 49ms/step\n",
      "1/1 [==============================] - 0s 58ms/step\n",
      "1/1 [==============================] - 0s 38ms/step\n",
      "1/1 [==============================] - 0s 30ms/step\n",
      "1/1 [==============================] - 0s 26ms/step\n",
      "1/1 [==============================] - 0s 37ms/step\n",
      "1/1 [==============================] - 0s 31ms/step\n"
     ]
    }
   ],
   "source": [
    "os.chdir(\"SampleLib\")\n",
    "file_names = glob.glob(\"*\")\n",
    "os.mkdir(\"Hihat\")\n",
    "os.mkdir(\"Snare\")\n",
    "os.mkdir(\"Kick\")\n",
    "for wav in file_names:\n",
    "    waveform, samplerate = librosa.load(wav, sr=44100, mono=True)\n",
    "    waveform = librosa.util.fix_length(waveform, size=50000)\n",
    "    mfcc=librosa.feature.mfcc(waveform, n_mfcc=40, n_fft=2048, hop_length=512)\n",
    "    features = librosa.util.normalize(mfcc)\n",
    "    features = features[np.newaxis, ...]\n",
    "    probs = model.predict(features)\n",
    "    label = np.argmax(probs)\n",
    "    if label == 0:\n",
    "        shutil.copy(wav, \"Hihat/\"+\"hihat_\"+wav)\n",
    "        os.remove(wav)\n",
    "    elif label == 1:\n",
    "        shutil.copy(wav, \"Snare/\"+\"snare_\"+wav)\n",
    "        os.remove(wav)\n",
    "    elif label == 2:\n",
    "        shutil.copy(wav, \"Kick/\"+\"kick_\"+wav)\n",
    "        os.remove(wav)\n",
    "\n"
   ]
  },
  {
   "cell_type": "code",
   "execution_count": null,
   "id": "55bdc3fb",
   "metadata": {},
   "outputs": [],
   "source": []
  }
 ],
 "metadata": {
  "kernelspec": {
   "display_name": "Python 3",
   "language": "python",
   "name": "python3"
  },
  "language_info": {
   "codemirror_mode": {
    "name": "ipython",
    "version": 3
   },
   "file_extension": ".py",
   "mimetype": "text/x-python",
   "name": "python",
   "nbconvert_exporter": "python",
   "pygments_lexer": "ipython3",
   "version": "3.8.8"
  }
 },
 "nbformat": 4,
 "nbformat_minor": 5
}
